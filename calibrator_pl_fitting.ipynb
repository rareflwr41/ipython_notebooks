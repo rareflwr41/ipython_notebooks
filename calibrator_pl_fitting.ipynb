{
 "cells": [
  {
   "cell_type": "code",
   "execution_count": 1,
   "metadata": {
    "collapsed": false
   },
   "outputs": [],
   "source": [
    "%matplotlib inline\n",
    "\n",
    "import notebook\n",
    "from notebook.nbextensions import enable_nbextension\n",
    "enable_nbextension('notebook', 'usability/codefolding/main')\n",
    "import numpy as np\n",
    "import matplotlib.pyplot as plt\n",
    "import pandas as pd\n",
    "from scipy.optimize import curve_fit\n",
    "import seaborn as sns\n",
    "import markdown\n",
    "import scipy.stats as stats\n",
    "import sys\n",
    "sys.path.append('/Users/vs/Dropbox/Python')\n",
    "import itertools\n",
    "\n",
    "import reddening_laws as red\n",
    "bigfontsize=20\n",
    "labelfontsize=16\n",
    "tickfontsize=16\n",
    "sns.set_context('talk')\n",
    "plt.rcParams.update({'font.size': bigfontsize,\n",
    "                     'axes.labelsize':labelfontsize,\n",
    "                     'xtick.labelsize':tickfontsize,\n",
    "                     'ytick.labelsize':tickfontsize,\n",
    "                     'legend.fontsize':tickfontsize,\n",
    "                     })"
   ]
  },
  {
   "cell_type": "markdown",
   "metadata": {},
   "source": [
    "[3.6] PL Relation\n",
    "=========\n",
    "\n",
    "* Fitting the [3.6] PL relation for calibrator stars with HST parallaxes\n",
    "* Will eventually extend this to the full sample when GAIA parallaxes are available\n",
    "* Uncertainties in Benedict et al. (2011) are overestimated.\n",
    "* Rachael has done MC tests to get better estimates of the distance uncertainties on the 5 calibrators\n",
    "* Final analysis from RLB reduces parallax uncertainties to 50% of original\n",
    " "
   ]
  },
  {
   "cell_type": "code",
   "execution_count": 2,
   "metadata": {
    "collapsed": false
   },
   "outputs": [],
   "source": [
    "calibrator_data = pd.read_csv(\"~/Dropbox/Publications/smhash_overview/calibrator_pl_fitting/calibrator_data\", delim_whitespace=True)"
   ]
  },
  {
   "cell_type": "code",
   "execution_count": 3,
   "metadata": {
    "collapsed": false
   },
   "outputs": [
    {
     "data": {
      "text/html": [
       "<div>\n",
       "<table border=\"1\" class=\"dataframe\">\n",
       "  <thead>\n",
       "    <tr style=\"text-align: right;\">\n",
       "      <th></th>\n",
       "      <th>ID</th>\n",
       "      <th>log_P</th>\n",
       "      <th>m_36</th>\n",
       "      <th>e_m_36</th>\n",
       "      <th>Amp</th>\n",
       "      <th>type</th>\n",
       "      <th>Av</th>\n",
       "      <th>pi</th>\n",
       "      <th>e_pi</th>\n",
       "    </tr>\n",
       "  </thead>\n",
       "  <tbody>\n",
       "    <tr>\n",
       "      <th>0</th>\n",
       "      <td>RRLyr</td>\n",
       "      <td>-0.24655</td>\n",
       "      <td>6.484</td>\n",
       "      <td>0.014</td>\n",
       "      <td>0.212</td>\n",
       "      <td>ab</td>\n",
       "      <td>0.13</td>\n",
       "      <td>3.77</td>\n",
       "      <td>0.13</td>\n",
       "    </tr>\n",
       "    <tr>\n",
       "      <th>1</th>\n",
       "      <td>UVOct</td>\n",
       "      <td>-0.26552</td>\n",
       "      <td>8.200</td>\n",
       "      <td>0.014</td>\n",
       "      <td>0.263</td>\n",
       "      <td>ab</td>\n",
       "      <td>0.28</td>\n",
       "      <td>1.71</td>\n",
       "      <td>0.10</td>\n",
       "    </tr>\n",
       "    <tr>\n",
       "      <th>2</th>\n",
       "      <td>XZCyg</td>\n",
       "      <td>-0.33107</td>\n",
       "      <td>8.676</td>\n",
       "      <td>0.016</td>\n",
       "      <td>0.229</td>\n",
       "      <td>ab</td>\n",
       "      <td>0.30</td>\n",
       "      <td>1.67</td>\n",
       "      <td>0.17</td>\n",
       "    </tr>\n",
       "    <tr>\n",
       "      <th>3</th>\n",
       "      <td>SUDra</td>\n",
       "      <td>-0.18018</td>\n",
       "      <td>8.616</td>\n",
       "      <td>0.019</td>\n",
       "      <td>0.283</td>\n",
       "      <td>ab</td>\n",
       "      <td>0.03</td>\n",
       "      <td>1.42</td>\n",
       "      <td>0.16</td>\n",
       "    </tr>\n",
       "    <tr>\n",
       "      <th>4</th>\n",
       "      <td>RZCep</td>\n",
       "      <td>-0.51052</td>\n",
       "      <td>7.891</td>\n",
       "      <td>0.007</td>\n",
       "      <td>0.116</td>\n",
       "      <td>c</td>\n",
       "      <td>0.78</td>\n",
       "      <td>2.54</td>\n",
       "      <td>0.19</td>\n",
       "    </tr>\n",
       "  </tbody>\n",
       "</table>\n",
       "</div>"
      ],
      "text/plain": [
       "      ID    log_P   m_36  e_m_36    Amp type    Av    pi  e_pi\n",
       "0  RRLyr -0.24655  6.484   0.014  0.212   ab  0.13  3.77  0.13\n",
       "1  UVOct -0.26552  8.200   0.014  0.263   ab  0.28  1.71  0.10\n",
       "2  XZCyg -0.33107  8.676   0.016  0.229   ab  0.30  1.67  0.17\n",
       "3  SUDra -0.18018  8.616   0.019  0.283   ab  0.03  1.42  0.16\n",
       "4  RZCep -0.51052  7.891   0.007  0.116    c  0.78  2.54  0.19"
      ]
     },
     "execution_count": 3,
     "metadata": {},
     "output_type": "execute_result"
    }
   ],
   "source": [
    "calibrator_data"
   ]
  },
  {
   "cell_type": "markdown",
   "metadata": {},
   "source": [
    "Scaling uncertainties by 50% -- latest result from Rachael's monte carlo fitting. Reduce the **parallax uncertainty** by half. This is the result that will be in Beaton et al. (2016)\n",
    "```python\n",
    "reduced_error = e_pi * 0.5\n",
    "```"
   ]
  },
  {
   "cell_type": "code",
   "execution_count": 4,
   "metadata": {
    "collapsed": false
   },
   "outputs": [],
   "source": [
    "calibrator_data = calibrator_data.assign(reduced_error = lambda x: (x.e_pi * 0.5))\n"
   ]
  },
  {
   "cell_type": "markdown",
   "metadata": {},
   "source": [
    "Reticulum PL relation\n",
    "---------------------\n",
    "* From RLB on Nov 13 2015\n",
    " $$ [3.6] = -2.16 (\\log P_{F} + 0.30) + 17.97 $$\n",
    "* $\\sigma_{slope} = 0.08$\n",
    "* Dispersion = 0.02 mag\n"
   ]
  },
  {
   "cell_type": "code",
   "execution_count": 5,
   "metadata": {
    "collapsed": true
   },
   "outputs": [],
   "source": [
    "## Define the PL relation fit\n",
    "def pl_fit(x, zp):\n",
    "    return -2.16 * (x + 0.30) + zp"
   ]
  },
  {
   "cell_type": "code",
   "execution_count": 6,
   "metadata": {
    "collapsed": false
   },
   "outputs": [
    {
     "name": "stdout",
     "output_type": "stream",
     "text": [
      "RRLyr -0.24655\n",
      "UVOct -0.26552\n",
      "XZCyg -0.33107\n",
      "SUDra -0.18018\n",
      "RZCep -0.51052\n"
     ]
    }
   ],
   "source": [
    "for star in np.arange(len(calibrator_data)):\n",
    "    print calibrator_data.ID[star], calibrator_data.log_P[star]"
   ]
  },
  {
   "cell_type": "markdown",
   "metadata": {},
   "source": [
    "Need to convert the apparent mags to absolute mags - correct for distance and extinction\n",
    "\n",
    "$$\\mu = m - M + A_{3.6}$$\n",
    "$$M = m - \\mu + A_{3.6}$$"
   ]
  },
  {
   "cell_type": "code",
   "execution_count": 7,
   "metadata": {
    "collapsed": false
   },
   "outputs": [
    {
     "ename": "AttributeError",
     "evalue": "'DataFrame' object has no attribute 'mu_dist'",
     "output_type": "error",
     "traceback": [
      "\u001b[0;31m---------------------------------------------------------------------------\u001b[0m",
      "\u001b[0;31mAttributeError\u001b[0m                            Traceback (most recent call last)",
      "\u001b[0;32m<ipython-input-7-0a85f58f10f6>\u001b[0m in \u001b[0;36m<module>\u001b[0;34m()\u001b[0m\n\u001b[1;32m      2\u001b[0m \u001b[0;34m\u001b[0m\u001b[0m\n\u001b[1;32m      3\u001b[0m \u001b[0;34m\u001b[0m\u001b[0m\n\u001b[0;32m----> 4\u001b[0;31m \u001b[0mabs_mag_uncor\u001b[0m \u001b[0;34m=\u001b[0m \u001b[0mcalibrator_data\u001b[0m\u001b[0;34m.\u001b[0m\u001b[0mm_36\u001b[0m \u001b[0;34m-\u001b[0m \u001b[0mcalibrator_data\u001b[0m\u001b[0;34m.\u001b[0m\u001b[0mmu_dist\u001b[0m\u001b[0;34m\u001b[0m\u001b[0m\n\u001b[0m\u001b[1;32m      5\u001b[0m \u001b[0mabs_mag_uncor\u001b[0m\u001b[0;34m\u001b[0m\u001b[0m\n\u001b[1;32m      6\u001b[0m \u001b[0mA_3\u001b[0m \u001b[0;34m=\u001b[0m \u001b[0;34m[\u001b[0m\u001b[0;36m0.009\u001b[0m\u001b[0;34m,\u001b[0m \u001b[0;36m0.018\u001b[0m\u001b[0;34m,\u001b[0m \u001b[0;36m0.020\u001b[0m\u001b[0;34m,\u001b[0m \u001b[0;36m0.002\u001b[0m\u001b[0;34m,\u001b[0m \u001b[0;36m0.051\u001b[0m\u001b[0;34m]\u001b[0m\u001b[0;34m\u001b[0m\u001b[0m\n",
      "\u001b[0;32m//anaconda/lib/python2.7/site-packages/pandas/core/generic.pyc\u001b[0m in \u001b[0;36m__getattr__\u001b[0;34m(self, name)\u001b[0m\n\u001b[1;32m   2667\u001b[0m             \u001b[0;32mif\u001b[0m \u001b[0mname\u001b[0m \u001b[0;32min\u001b[0m \u001b[0mself\u001b[0m\u001b[0;34m.\u001b[0m\u001b[0m_info_axis\u001b[0m\u001b[0;34m:\u001b[0m\u001b[0;34m\u001b[0m\u001b[0m\n\u001b[1;32m   2668\u001b[0m                 \u001b[0;32mreturn\u001b[0m \u001b[0mself\u001b[0m\u001b[0;34m[\u001b[0m\u001b[0mname\u001b[0m\u001b[0;34m]\u001b[0m\u001b[0;34m\u001b[0m\u001b[0m\n\u001b[0;32m-> 2669\u001b[0;31m             \u001b[0;32mreturn\u001b[0m \u001b[0mobject\u001b[0m\u001b[0;34m.\u001b[0m\u001b[0m__getattribute__\u001b[0m\u001b[0;34m(\u001b[0m\u001b[0mself\u001b[0m\u001b[0;34m,\u001b[0m \u001b[0mname\u001b[0m\u001b[0;34m)\u001b[0m\u001b[0;34m\u001b[0m\u001b[0m\n\u001b[0m\u001b[1;32m   2670\u001b[0m \u001b[0;34m\u001b[0m\u001b[0m\n\u001b[1;32m   2671\u001b[0m     \u001b[0;32mdef\u001b[0m \u001b[0m__setattr__\u001b[0m\u001b[0;34m(\u001b[0m\u001b[0mself\u001b[0m\u001b[0;34m,\u001b[0m \u001b[0mname\u001b[0m\u001b[0;34m,\u001b[0m \u001b[0mvalue\u001b[0m\u001b[0;34m)\u001b[0m\u001b[0;34m:\u001b[0m\u001b[0;34m\u001b[0m\u001b[0m\n",
      "\u001b[0;31mAttributeError\u001b[0m: 'DataFrame' object has no attribute 'mu_dist'"
     ]
    }
   ],
   "source": [
    "## Correct the apparent mags for distance and extinction\n",
    "\n",
    "\n",
    "abs_mag_uncor = calibrator_data.m_36 - calibrator_data.mu_dist\n",
    "abs_mag_uncor\n",
    "A_3 = [0.009, 0.018, 0.020, 0.002, 0.051]\n",
    "calibrator_data = calibrator_data.assign(abs_mag = lambda x: (x.m_36 - x.mu_dist + A_3))\n",
    "\n",
    "fe_h_benedict = [-1.41, -1.47, -1.44, -1.80, -1.77]\n",
    "e_fe_h_benedict = [0.13, 0.11, 0.2, 0.2, 0.2]\n",
    "calibrator_data = calibrator_data.assign(fe_h = fe_h_benedict)\n",
    "calibrator_data = calibrator_data.assign(e_fe_h = e_fe_h_benedict)\n",
    "\n",
    "RRab = calibrator_data.loc[calibrator_data['type'] == 'ab']\n",
    "RRc = calibrator_data.loc[calibrator_data['type'] == 'c']\n",
    "\n",
    "## Fundamentalise the period of the type c's\n",
    "RRc.log_P = RRc.log_P + 0.127\n"
   ]
  },
  {
   "cell_type": "code",
   "execution_count": null,
   "metadata": {
    "collapsed": false
   },
   "outputs": [],
   "source": [
    "RRab_pd = pd.DataFrame(RRab)\n",
    "RRc_pd = pd.DataFrame(RRc)\n",
    "fundamentalised = pd.concat((RRab_pd, RRc_pd))\n",
    "fundamentalised"
   ]
  },
  {
   "cell_type": "code",
   "execution_count": null,
   "metadata": {
    "collapsed": false
   },
   "outputs": [],
   "source": [
    "popt, pcov = curve_fit(pl_fit, RRab.log_P, RRab.abs_mag, sigma=RRab.reduced_error, absolute_sigma=True)\n",
    "popt, pcov\n",
    "slope = -2.16\n",
    "zpab = popt[0]\n",
    "e_zpab = pcov[0]\n",
    "zpab, e_zpab\n",
    "\n",
    "popt, pcov = curve_fit(pl_fit, fundamentalised.log_P, fundamentalised.abs_mag, sigma=fundamentalised.reduced_error, \\\n",
    "                       absolute_sigma=True)\n",
    "zp_fund = popt[0]\n",
    "e_zp_fund = pcov[0]\n",
    "zp_fund, e_zp_fund\n",
    "\n",
    "## Calculate the dispersion - pretty meaningless for 5 stars though\n",
    "\n",
    "var_ab = np.sum((fundamentalised.abs_mag - (slope*(fundamentalised.log_P + 0.30) + zpab))**2) / 5.\n",
    "sd_ab = np.sqrt(var_ab)\n",
    "\n",
    "var_no_c = np.sum((RRab.abs_mag - (slope*(RRab.log_P + 0.30) + zpab))**2) / 4.\n",
    "sd_no_c = np.sqrt(var_no_c)\n",
    "\n",
    "var_fund = np.sum((fundamentalised.abs_mag - (slope*(fundamentalised.log_P + 0.30) + zp_fund))**2) / 5.\n",
    "sd_fund = np.sqrt(var_fund)\n",
    "\n",
    "print sd_ab, sd_no_c, sd_fund"
   ]
  },
  {
   "cell_type": "code",
   "execution_count": null,
   "metadata": {
    "collapsed": false
   },
   "outputs": [],
   "source": [
    "print zpab, e_zpab, zp_fund, e_zp_fund"
   ]
  },
  {
   "cell_type": "code",
   "execution_count": null,
   "metadata": {
    "collapsed": false
   },
   "outputs": [],
   "source": [
    "p1 = np.arange(-1,0.1,0.1)\n",
    "\n",
    "sns.set(style=\"darkgrid\")\n",
    "sns.set_context(\"notebook\", font_scale=1.5, rc={\"lines.linewidth\": 2.0})\n",
    "sns.set_palette(\"Set2\", 2)\n",
    "\n",
    "palette = itertools.cycle(sns.color_palette())\n",
    "\n",
    "## Error on reticulum slope is 0.08 mag\n",
    "\n",
    "plt.fill_between(p1, ((slope+(2*0.08))*(p1 + 0.30) + zpab - 2*e_zpab), \\\n",
    "                 ((slope-(2*0.08))*(p1 + 0.30) + zpab + 2*e_zpab), alpha = 0.3, color=next(palette))\n",
    "plt.fill_between(p1, ((slope+(2*0.08))*(p1 + 0.30) + zp_fund - 2*e_zp_fund), \\\n",
    "                 ((slope-(2*0.08))*(p1+ 0.30) + zp_fund + 2*e_zp_fund), alpha = 0.3, color=next(palette))\n",
    "\n",
    "\n",
    "\n",
    "plt.plot(p1, slope*(p1 + 0.30) + zpab, ls='--', label=\"RRab fit\", color=next(palette))\n",
    "plt.plot(p1, slope*(p1 + 0.30) + zp_fund, ls='--', label='RRab + RRc fit', color=next(palette))\n",
    "plt.errorbar(RRab.log_P, RRab.abs_mag, yerr = RRab.mu_dist_err, color='gray', ls='None', label='Benedict errors', \\\n",
    "            capsize=0.5, zorder=4)\n",
    "plt.errorbar(RRc.log_P, RRc.abs_mag, yerr = RRc.mu_dist_err, color='gray', ls='None', zorder=4)\n",
    "plt.errorbar(RRab.log_P, RRab.abs_mag, yerr = RRab.reduced_error, ls='None',zorder=4)\n",
    "plt.errorbar(RRc.log_P, RRc.abs_mag, yerr = RRc.reduced_error, ls='None',zorder=4)\n",
    "plt.plot(RRab.log_P, RRab.abs_mag, 'o', label=\"RRab\", ms=10,zorder=4, color=next(palette))\n",
    "plt.plot(RRc.log_P, RRc.abs_mag, 's', label=\"RRc\", ms=10, zorder=4, color=next(palette))\n",
    "plt.xlim(-0.5, 0)\n",
    "plt.ylim(0.2, -1.2)\n",
    "plt.xlabel('log P')\n",
    "plt.ylabel('M$_{[3.6]}$')\n",
    "plt.suptitle('Calibrator RRL PL - Reticulum slope, 70% $\\mu$ errors, RRc fundamentalised')\n",
    "plt.legend(loc='best')\n"
   ]
  },
  {
   "cell_type": "markdown",
   "metadata": {
    "variables": {
     "\"%.3f\" % e_zp_fund[0]": "<p><strong>NameError</strong>: name &#39;e_zp_fund&#39; is not defined</p>\n",
     "\"%.3f\" % e_zpab[0]": "<p><strong>NameError</strong>: name &#39;e_zpab&#39; is not defined</p>\n",
     "\"%.3f\" % sd_ab": "<p><strong>NameError</strong>: name &#39;sd_ab&#39; is not defined</p>\n",
     "\"%.3f\" % sd_fund": "<p><strong>NameError</strong>: name &#39;sd_fund&#39; is not defined</p>\n",
     "\"%.3f\" % sd_no_c": "<p><strong>NameError</strong>: name &#39;sd_no_c&#39; is not defined</p>\n",
     "\"%.3f\" % zp_fund": "<p><strong>NameError</strong>: name &#39;zp_fund&#39; is not defined</p>\n",
     "\"%.3f\" % zpab": "<p><strong>NameError</strong>: name &#39;zpab&#39; is not defined</p>\n"
    }
   },
   "source": [
    "Results of PL fitting:\n",
    "---------------------\n",
    "Weighted fits, using reduced uncertainties:\n",
    "\n",
    "Only RRab fit: zp = {{\"%.3f\" % zpab}}, error on zp = {{\"%.3f\" % e_zpab[0]}}, dispersion = {{\"%.3f\" % sd_no_c}} (only RRab) \n",
    "{{\"%.3f\" % sd_ab}} (including fundamentalised RRc in dispersion calculation)\n",
    "\n",
    "All stars fit, RRc fundamentalised: zp = {{\"%.3f\" % zp_fund}}, error on zp = {{\"%.3f\" % e_zp_fund[0]}}, dispersion = {{\"%.3f\" % sd_fund}}\n",
    "\n",
    "\n"
   ]
  },
  {
   "cell_type": "markdown",
   "metadata": {
    "collapsed": false
   },
   "source": [
    "Metallicity??\n",
    "------------\n",
    "\n",
    "* Metallicity of Reticulum: [Fe/H] = -1.71 $\\pm$ 0.1 dex (Dall'Ora et al. 2004, Suntzeff et al. 1992)\n",
    "* What are the metallicities of these stars?\n",
    " - Given in Benedict et al. (2011)"
   ]
  },
  {
   "cell_type": "code",
   "execution_count": null,
   "metadata": {
    "collapsed": false
   },
   "outputs": [],
   "source": [
    "calibrator_data"
   ]
  },
  {
   "cell_type": "code",
   "execution_count": null,
   "metadata": {
    "collapsed": false
   },
   "outputs": [],
   "source": [
    "mean_fe_h = calibrator_data.fe_h.mean()\n",
    "median_fe_h = calibrator_data.fe_h.median()\n",
    "sigma_fe_h = calibrator_data.fe_h.std()\n",
    "mean_fe_h, median_fe_h, sigma_fe_h"
   ]
  },
  {
   "cell_type": "markdown",
   "metadata": {
    "variables": {
     "\"%.2f\" % mean_fe_h": "<p><strong>NameError</strong>: name &#39;mean_fe_h&#39; is not defined</p>\n",
     "\"%.2f\" % median_fe_h": "<p><strong>NameError</strong>: name &#39;median_fe_h&#39; is not defined</p>\n",
     "\"%.3f\" % sigma_fe_h": "<p><strong>NameError</strong>: name &#39;sigma_fe_h&#39; is not defined</p>\n"
    }
   },
   "source": [
    "Statistics of calibrator stars:\n",
    "------------------------------\n",
    "* Mean metallicity: {{\"%.2f\" % mean_fe_h}} dex\n",
    "* Median metallicity: {{\"%.2f\" % median_fe_h}} dex\n",
    "* Standard deviation of metallicities: {{\"%.3f\" % sigma_fe_h}} dex"
   ]
  },
  {
   "cell_type": "code",
   "execution_count": null,
   "metadata": {
    "collapsed": false
   },
   "outputs": [],
   "source": [
    "sns.set(style=\"darkgrid\")\n",
    "sns.set_context(\"notebook\", font_scale=1.5, rc={\"lines.linewidth\": 2.0})\n",
    "sns.set_palette(\"Set2\", 2)\n",
    "\n",
    "errscale = 0.049\n",
    "photometric = stats.norm(loc=0,scale=errscale)\n",
    "\n",
    "reticulum_z_dist = stats.norm(loc=-1.71, scale=0.1)\n",
    "calibrator_z_dist = stats.norm(loc=median_fe_h, scale=sigma_fe_h)\n",
    "delta = 1e-4\n",
    "big_grid = np.arange(-3,0,delta)\n",
    "\n",
    "\n",
    "pmf_retic = reticulum_z_dist.pdf(big_grid)*delta\n",
    "pmf_calib = calibrator_z_dist.pdf(big_grid)*delta\n",
    "\n",
    "plt.plot(big_grid,pmf_retic, label='Reticulum')\n",
    "plt.plot(big_grid,pmf_calib, label='Calibrator stars')\n",
    "plt.xlabel('[Fe/H]')\n",
    "plt.ylabel('PMF')\n",
    "\n",
    "plt.legend(loc='best'), plt.suptitle('Comparison of Calibrator [Fe/H] distribution with Reticulum')"
   ]
  },
  {
   "cell_type": "markdown",
   "metadata": {},
   "source": [
    "Where does $\\omega$ Cen fit into this? M4?\n",
    "* Assuming Gaussian distributions of metallicities:\n",
    " * $\\omega$ Cen median [Fe/H] = -1.567 dex, sigma = 0.3 dex (median from Durbin et al, spread is guestimate)\n",
    " * M4 median [Fe/H] = -1.10 dex, sigma = 0.10 dex (Neeley et al. 2015, Braga et al. 2015, spread is guestimate)"
   ]
  },
  {
   "cell_type": "code",
   "execution_count": null,
   "metadata": {
    "collapsed": false
   },
   "outputs": [],
   "source": [
    "sns.set(style=\"darkgrid\")\n",
    "sns.set_context(\"notebook\", font_scale=1.5, rc={\"lines.linewidth\": 2.0})\n",
    "sns.set_palette(\"Set2\", 4)\n",
    "\n",
    "errscale = 0.049\n",
    "photometric = stats.norm(loc=0,scale=errscale)\n",
    "\n",
    "reticulum_z_dist = stats.norm(loc=-1.71, scale=0.1)\n",
    "calibrator_z_dist = stats.norm(loc=median_fe_h, scale=sigma_fe_h)\n",
    "ocen_z_dist = stats.norm(loc=-1.567, scale=0.3)\n",
    "m4_z_dist = stats.norm(loc=-1.10, scale=0.10)\n",
    "delta = 1e-4\n",
    "big_grid = np.arange(-3,0,delta)\n",
    "\n",
    "\n",
    "pmf_retic = reticulum_z_dist.pdf(big_grid)*delta\n",
    "pmf_calib = calibrator_z_dist.pdf(big_grid)*delta\n",
    "pmf_ocen = ocen_z_dist.pdf(big_grid)*delta\n",
    "pmf_m4 = m4_z_dist.pdf(big_grid)*delta\n",
    "\n",
    "\n",
    "plt.plot(big_grid,pmf_retic, label='Reticulum')\n",
    "plt.plot(big_grid,pmf_calib, label='Calibrator stars')\n",
    "plt.plot(big_grid,pmf_ocen, label='$\\omega$ Cen')\n",
    "plt.plot(big_grid, pmf_m4, label=\"M4\")\n",
    "\n",
    "\n",
    "plt.plot()\n",
    "plt.xlabel('[Fe/H]')\n",
    "plt.ylabel('PMF')\n",
    "\n",
    "plt.legend(loc='best'), plt.suptitle('Comparison of [Fe/H] distributions with Reticulum')"
   ]
  },
  {
   "cell_type": "markdown",
   "metadata": {},
   "source": [
    "This is interesting. Reticulum and M4 bracket the two sides of the metallicity distribution of the calibrator stars. Is M4 particularly high in metallicity for a globular cluster?\n",
    "\n",
    "Comparison of zero-points when using the Reticulum and M4 slopes\n",
    "------------------------------------------------------------\n",
    "It looks (by eye) that the calibrator stars and $\\omega$ Cen tend towards lower metallicities, and that M4 is at a higher metallicity. Only have samples here, so this might be bollocks. But how does the zero--point change when the M4 slope is used for fitting the calibrators, rather than Reticulum? If metallicity is a factor in the slope, then I would expect the dispersion to increase."
   ]
  },
  {
   "cell_type": "code",
   "execution_count": null,
   "metadata": {
    "collapsed": false
   },
   "outputs": [],
   "source": [
    "def pl_fit_m4(x, zp):\n",
    "    return -2.370*(x + 0.26) + zp\n",
    "\n",
    "popt, pcov = curve_fit(pl_fit_m4, RRab.log_P, RRab.abs_mag, sigma=RRab.reduced_error, absolute_sigma=True)\n",
    "popt, pcov\n",
    "slope_m4 = -2.370\n",
    "zpab_m4 = popt[0]\n",
    "e_zpab_m4 = pcov[0]\n",
    "zpab_m4, e_zpab_m4\n",
    "\n",
    "popt, pcov = curve_fit(pl_fit_m4, fundamentalised.log_P, fundamentalised.abs_mag, sigma=fundamentalised.reduced_error, \\\n",
    "                       absolute_sigma=True)\n",
    "zp_fund_m4 = popt[0]\n",
    "e_zp_fund_m4 = pcov[0]\n",
    "zp_fund_m4, e_zp_fund_m4\n",
    "\n",
    "## Calculate the dispersion - pretty meaningless for 5 stars though\n",
    "\n",
    "var_ab_m4 = np.sum((fundamentalised.abs_mag - (slope_m4*(fundamentalised.log_P + 0.26) + zpab_m4))**2) / 5.\n",
    "sd_ab_m4 = np.sqrt(var_ab_m4)\n",
    "\n",
    "var_no_c_m4 = np.sum((RRab.abs_mag - (slope_m4*(RRab.log_P + 0.26) + zpab_m4))**2) / 4.\n",
    "sd_no_c_m4 = np.sqrt(var_no_c_m4)\n",
    "\n",
    "var_fund_m4 = np.sum((fundamentalised.abs_mag - (slope_m4*(fundamentalised.log_P + 0.26) + zp_fund_m4))**2) / 5.\n",
    "sd_fund_m4 = np.sqrt(var_fund_m4)\n",
    "\n",
    "print sd_ab_m4, sd_no_c_m4, sd_fund_m4\n",
    "\n",
    "p1 = np.arange(-1,0.1,0.1)\n",
    "\n",
    "sns.set(style=\"darkgrid\")\n",
    "sns.set_context(\"notebook\", font_scale=1.5, rc={\"lines.linewidth\": 2.0})\n",
    "sns.set_palette(\"Set2\", 2)\n",
    "\n",
    "palette = itertools.cycle(sns.color_palette())\n",
    "\n",
    "plt.fill_between(p1, ((slope_m4+(2*0.106))*(p1 + 0.26) + zpab_m4 - 2*e_zpab_m4), \\\n",
    "                 ((slope_m4-(2*0.106))*(p1 + 0.26) + zpab_m4 + 2*e_zpab_m4), alpha = 0.3, color=next(palette))\n",
    "plt.fill_between(p1, ((slope_m4+(2*0.106))*(p1 + 0.26) + zp_fund_m4 - 2*e_zp_fund_m4), \\\n",
    "                 ((slope_m4-(2*0.106))*(p1+ 0.26) + zp_fund_m4 + 2*e_zp_fund_m4), alpha = 0.3, color=next(palette))\n",
    "\n",
    "plt.plot(p1, slope_m4*(p1 + 0.26) + zpab_m4, ls='--', label=\"RRab fit\", color=next(palette))\n",
    "plt.plot(p1, slope_m4*(p1 + 0.26) + zp_fund_m4, ls='--', label='RRab + RRc fit', color=next(palette))\n",
    "plt.errorbar(RRab.log_P, RRab.abs_mag, yerr = RRab.mu_dist_err, color='k', ls='None', label='Benedict errors', \\\n",
    "            capsize=0.5, zorder=4)\n",
    "plt.errorbar(RRc.log_P, RRc.abs_mag, yerr = RRc.mu_dist_err, color='k', ls='None', zorder=4)\n",
    "plt.errorbar(RRab.log_P, RRab.abs_mag, yerr = RRab.reduced_error, ls='None',zorder=4)\n",
    "plt.errorbar(RRc.log_P, RRc.abs_mag, yerr = RRc.reduced_error, ls='None',zorder=4)\n",
    "plt.plot(RRab.log_P, RRab.abs_mag, 'o', label=\"RRab\", ms=10,zorder=4, color=next(palette))\n",
    "plt.plot(RRc.log_P, RRc.abs_mag, 's', label=\"RRc\", ms=10, zorder=4, color=next(palette))\n",
    "plt.xlim(-0.5, 0)\n",
    "plt.ylim(0.2, -1.2)\n",
    "plt.xlabel('log P')\n",
    "plt.ylabel('M$_{[3.6]}$')\n",
    "plt.suptitle('Calibrator RRL PL - M4 slope, 70% $\\mu$ errors, RRc fundamentalised')\n",
    "plt.legend(loc='best')\n",
    "\n"
   ]
  },
  {
   "cell_type": "code",
   "execution_count": null,
   "metadata": {
    "collapsed": false
   },
   "outputs": [],
   "source": [
    "(slope_m4-(2*0.106)), (slope_m4+(2*0.106))"
   ]
  },
  {
   "cell_type": "markdown",
   "metadata": {
    "variables": {
     "\"%.3f\" % e_zp_fund[0]": "<p><strong>NameError</strong>: name &#39;e_zp_fund&#39; is not defined</p>\n",
     "\"%.3f\" % e_zp_fund_m4[0]": "<p><strong>NameError</strong>: name &#39;e_zp_fund_m4&#39; is not defined</p>\n",
     "\"%.3f\" % e_zpab[0]": "<p><strong>NameError</strong>: name &#39;e_zpab&#39; is not defined</p>\n",
     "\"%.3f\" % e_zpab_m4[0]": "<p><strong>NameError</strong>: name &#39;e_zpab_m4&#39; is not defined</p>\n",
     "\"%.3f\" % sd_ab": "<p><strong>NameError</strong>: name &#39;sd_ab&#39; is not defined</p>\n",
     "\"%.3f\" % sd_ab_m4": "<p><strong>NameError</strong>: name &#39;sd_ab_m4&#39; is not defined</p>\n",
     "\"%.3f\" % sd_fund": "<p><strong>NameError</strong>: name &#39;sd_fund&#39; is not defined</p>\n",
     "\"%.3f\" % sd_fund_m4": "<p><strong>NameError</strong>: name &#39;sd_fund_m4&#39; is not defined</p>\n",
     "\"%.3f\" % sd_no_c": "<p><strong>NameError</strong>: name &#39;sd_no_c&#39; is not defined</p>\n",
     "\"%.3f\" % sd_no_c_m4": "<p><strong>NameError</strong>: name &#39;sd_no_c_m4&#39; is not defined</p>\n",
     "\"%.3f\" % zp_fund": "<p><strong>NameError</strong>: name &#39;zp_fund&#39; is not defined</p>\n",
     "\"%.3f\" % zp_fund_m4": "<p><strong>NameError</strong>: name &#39;zp_fund_m4&#39; is not defined</p>\n",
     "\"%.3f\" % zpab": "<p><strong>NameError</strong>: name &#39;zpab&#39; is not defined</p>\n",
     "\"%.3f\" % zpab_m4": "<p><strong>NameError</strong>: name &#39;zpab_m4&#39; is not defined</p>\n"
    }
   },
   "source": [
    "## Results of PL fitting:\n",
    "---------------------\n",
    "Weighted fits, using reduced uncertainties:\n",
    "\n",
    "Only RRab fit: zp = {{\"%.3f\" % zpab_m4}}, error on zp = {{\"%.3f\" % e_zpab_m4[0]}}, dispersion = {{\"%.3f\" % sd_no_c_m4}} (only RRab) \n",
    "{{\"%.3f\" % sd_ab_m4}} (including fundamentalised RRc in dispersion calculation)\n",
    "\n",
    "All stars fit, RRc fundamentalised: zp = {{\"%.3f\" % zp_fund_m4}}, error on zp = {{\"%.3f\" % e_zp_fund_m4[0]}}, dispersion = {{\"%.3f\" % sd_fund_m4}}\n",
    "\n",
    "Compare this with numbers from the Reticulum fits:\n",
    "\n",
    "Only RRab fit: zp = {{\"%.3f\" % zpab}}, error on zp = {{\"%.3f\" % e_zpab[0]}}, dispersion = {{\"%.3f\" % sd_no_c}} (only RRab) \n",
    "{{\"%.3f\" % sd_ab}} (including fundamentalised RRc in dispersion calculation)\n",
    "\n",
    "All stars fit, RRc fundamentalised: zp = {{\"%.3f\" % zp_fund}}, error on zp = {{\"%.3f\" % e_zp_fund[0]}}, dispersion = {{\"%.3f\" % sd_fund}}\n",
    "\n",
    "There's not a lot in it. Have a look at the residuals. Do the correlate with eachother? With metallciity?\n",
    "\n"
   ]
  },
  {
   "cell_type": "code",
   "execution_count": null,
   "metadata": {
    "collapsed": false
   },
   "outputs": [],
   "source": [
    "sns.set(style=\"darkgrid\")\n",
    "sns.set_context(\"notebook\", font_scale=1.5, rc={\"lines.linewidth\": 2.0})\n",
    "sns.set_palette(\"Set2\", 6)\n",
    "\n",
    "\n",
    "retic_resid_ab = fundamentalised.abs_mag - (slope*(fundamentalised.log_P + 0.30) + zpab)\n",
    "retic_resid_no_c = RRab.abs_mag - (slope*(RRab.log_P + 0.3) + zpab)\n",
    "retic_resid_fundamentalised = fundamentalised.abs_mag - (slope*(fundamentalised.log_P + 0.3) + zp_fund)\n",
    "                                                         \n",
    "m4_resid_ab = fundamentalised.abs_mag - (slope_m4*(fundamentalised.log_P) + zpab_m4)\n",
    "m4_resid_no_c = RRab.abs_mag - (slope_m4*(RRab.log_P) + zpab_m4)\n",
    "m4_resid_fundamentalised = fundamentalised.abs_mag - (slope_m4*(fundamentalised.log_P) + zp_fund_m4)\n",
    "  \n",
    "fig = plt.figure()\n",
    "ax = plt.subplot(111)\n",
    "\n",
    "ax.errorbar(fe_h, m4_resid_ab, yerr=fundamentalised.reduced_error, xerr=fundamentalised.e_fe_h, ls='None', c='k')\n",
    "ax.plot(fe_h, m4_resid_ab, 'o', ms=10, ls='None', label='M4, RRab fit')\n",
    "ax.plot(RRab.fe_h, m4_resid_no_c, '*', ms=10, ls='None', label='M4, RRab fit, RRc excluded')\n",
    "ax.plot(fe_h, m4_resid_fundamentalised, 'o', ms=10, ls='None', label='M4, RRab + RRc fit')\n",
    "\n",
    "\n",
    "ax.plot(fe_h, retic_resid_ab, '^', ms=15, ls='None', label='Reticulum, RRab fit')\n",
    "ax.plot(RRab.fe_h, retic_resid_no_c, '*', ms=15, ls='None', label='Reticulum, RRab fit, RRc excluded')\n",
    "ax.plot(fe_h, retic_resid_fundamentalised, '^', ms=15, ls='None', label='Reticulum, RRab + RRc fit')\n",
    "\n",
    "\n",
    "## Can you measure a metallicity effect from these stars?\n",
    "\n",
    "def metal_effect(x, slope, zp):\n",
    "    return slope*x + zp\n",
    "\n",
    "m4_rrab_params, m4_rrab_errs = curve_fit(metal_effect, fundamentalised.fe_h, m4_resid_ab)\n",
    "m4_no_c_params, m4_no_c_errs = curve_fit(metal_effect, RRab.fe_h, m4_resid_no_c)\n",
    "m4_fund_params, m4_fund_errs = curve_fit(metal_effect, fundamentalised.fe_h, m4_resid_fundamentalised)\n",
    "\n",
    "retic_rrab_params, retic_rrab_errs = curve_fit(metal_effect, fundamentalised.fe_h, retic_resid_ab)\n",
    "retic_no_c_params, retic_no_c_errs = curve_fit(metal_effect, RRab.fe_h, retic_resid_no_c)\n",
    "retic_fund_params, retic_fund_errs = curve_fit(metal_effect, fundamentalised.fe_h, retic_resid_fundamentalised)\n",
    "\n",
    "#plt.xlim(-2.1, -1.20)\n",
    "#plt.ylim(-0.2, 0.4)\n",
    "\n",
    "fe_h_l = np.arange(-2.2, -1.1, 0.1)\n",
    "\n",
    "ax.plot(fe_h_l, (m4_rrab_params[0]*fe_h_l) +  m4_rrab_params[1], ls='-', label='M4, RRab fit')\n",
    "ax.plot(fe_h_l, m4_no_c_params[0]*fe_h_l +  m4_no_c_params[1], ls='-', label='M4, RRab fit, RRc excluded')\n",
    "ax.plot(fe_h_l, m4_fund_params[0]*fe_h_l +  m4_fund_params[1], ls='-', label='M4, RRab + RRc fit')\n",
    "ax.plot(fe_h_l, retic_rrab_params[0]*fe_h_l +  retic_rrab_params[1], ls='-', label='Reticulum, RRab fit')\n",
    "ax.plot(fe_h_l, retic_no_c_params[0]*fe_h_l +  retic_no_c_params[1], ls='-', label='Reticulum, RRab fit, RRc excluded')\n",
    "ax.plot(fe_h_l, retic_fund_params[0]*fe_h_l +  retic_fund_params[1], ls='-', label='Reticulum, RRab + RRc fit')\n",
    "\n",
    "plt.xlabel('[Fe/H]')\n",
    "plt.ylabel('$\\Delta$ M$_{[3.6]}$')\n",
    "plt.suptitle('PL residuals - weighted fits')\n",
    "box = ax.get_position()\n",
    "ax.set_position([box.x0, box.y0, box.width * 0.8, box.height])\n",
    "\n",
    "ax.legend(loc='center left', bbox_to_anchor=(1, 0.5))\n",
    "\n",
    "\n",
    "\n",
    "                                                         "
   ]
  },
  {
   "cell_type": "code",
   "execution_count": null,
   "metadata": {
    "collapsed": false
   },
   "outputs": [],
   "source": [
    "sns.set(style=\"darkgrid\")\n",
    "sns.set_context(\"notebook\", font_scale=1.5, rc={\"lines.linewidth\": 2.0})\n",
    "sns.set_palette(\"Set2\", 6)\n",
    "\n",
    "fig = plt.figure(figsize=(15, 9))\n",
    "ax1 = fig.add_subplot(2, 3, 1)\n",
    "ax2 = fig.add_subplot(2, 3, 2, sharex=ax1, sharey=ax1)\n",
    "ax3 = fig.add_subplot(2, 3, 3, sharex=ax1, sharey=ax1)\n",
    "ax4 = fig.add_subplot(2, 3, 4, sharex=ax1, sharey=ax1)\n",
    "ax5 = fig.add_subplot(2, 3, 5, sharex=ax1, sharey=ax1)\n",
    "ax6 = fig.add_subplot(2, 3, 6, sharex=ax1, sharey=ax1)\n",
    "\n",
    "\n",
    "palette = itertools.cycle(sns.color_palette())\n",
    "\n",
    "ax1.errorbar(fe_h, m4_resid_ab, yerr=fundamentalised.reduced_error, xerr=fundamentalised.e_fe_h, ls='None', c='k')\n",
    "ax1.plot(fe_h, m4_resid_ab, 'o', ms=10, ls='None', label='M4, RRab fit', color=next(palette))\n",
    "plt.xlim(-2.2, -1)\n",
    "plt.ylim(-1., 1.)\n",
    "ax2.errorbar(RRab.fe_h, m4_resid_no_c, yerr=RRab.reduced_error, xerr=RRab.e_fe_h, ls='None', c='k')\n",
    "ax2.plot(RRab.fe_h, m4_resid_no_c, '*', ms=20, ls='None', label='M4, RRc excluded', color=next(palette))\n",
    "\n",
    "ax3.errorbar(fe_h, m4_resid_fundamentalised, yerr=fundamentalised.reduced_error, xerr=fundamentalised.e_fe_h, ls='None', c='k')\n",
    "ax3.plot(fe_h, m4_resid_fundamentalised, 'o', ms=10, ls='None', label='M4, RRab/c fit', color=next(palette))\n",
    "\n",
    "ax4.errorbar(fe_h, retic_resid_ab, yerr=fundamentalised.reduced_error, xerr=fundamentalised.e_fe_h, ls='None', c='k')\n",
    "ax4.plot(fe_h, retic_resid_ab, '^', ms=15, ls='None', label='Reticulum, RRab fit', color=next(palette))\n",
    "\n",
    "ax5.errorbar(RRab.fe_h, retic_resid_no_c, yerr=RRab.reduced_error, xerr=RRab.e_fe_h, ls='None', c='k')\n",
    "ax5.plot(RRab.fe_h, retic_resid_no_c, '*', ms=20, ls='None', label='Reticulum, RRc excluded', color=next(palette))\n",
    "\n",
    "ax6.errorbar(fe_h, retic_resid_fundamentalised, yerr=fundamentalised.reduced_error, xerr=fundamentalised.e_fe_h, ls='None', c='k')\n",
    "ax6.plot(fe_h, retic_resid_fundamentalised, '^', ms=15, ls='None', label='Reticulum, RRab/c fit', color=next(palette))\n",
    "\n",
    "h1, l1 = ax1.get_legend_handles_labels()\n",
    "h2, l2 = ax2.get_legend_handles_labels()\n",
    "h3, l3 = ax3.get_legend_handles_labels()\n",
    "h4, l4 = ax4.get_legend_handles_labels()\n",
    "h5, l5 = ax5.get_legend_handles_labels()\n",
    "h6, l6 = ax6.get_legend_handles_labels()\n",
    "\n",
    "\n",
    "\n",
    "## Can you measure a metallicity effect from these stars?\n",
    "\n",
    "def metal_effect(x, slope, zp):\n",
    "    return slope*x + zp\n",
    "\n",
    "m4_rrab_params, m4_rrab_errs = curve_fit(metal_effect, fundamentalised.fe_h, m4_resid_ab)\n",
    "m4_no_c_params, m4_no_c_errs = curve_fit(metal_effect, RRab.fe_h, m4_resid_no_c)\n",
    "m4_fund_params, m4_fund_errs = curve_fit(metal_effect, fundamentalised.fe_h, m4_resid_fundamentalised)\n",
    "\n",
    "retic_rrab_params, retic_rrab_errs = curve_fit(metal_effect, fundamentalised.fe_h, retic_resid_ab)\n",
    "retic_no_c_params, retic_no_c_errs = curve_fit(metal_effect, RRab.fe_h, retic_resid_no_c)\n",
    "retic_fund_params, retic_fund_errs = curve_fit(metal_effect, fundamentalised.fe_h, retic_resid_fundamentalised)\n",
    "\n",
    "\n",
    "fe_h_l = np.arange(-3, -0, 0.1)\n",
    "\n",
    "\n",
    "\n",
    "ax1.fill_between(fe_h_l, (m4_rrab_params[0]*fe_h_l) +  m4_rrab_params[1]-(2*m4_rrab_errs[1][1]), \\\n",
    "                 (m4_rrab_params[0]*fe_h_l) +  m4_rrab_params[1]+(2*m4_rrab_errs[1][1]), alpha = 0.3, \\\n",
    "                 color=next(palette))\n",
    "\n",
    "ax2.fill_between(fe_h_l, (m4_no_c_params[0]*fe_h_l) +  m4_no_c_params[1]-(2*m4_no_c_errs[1][1]), \\\n",
    "                 (m4_no_c_params[0]*fe_h_l) +  m4_no_c_params[1]+(2*m4_no_c_errs[1][1]), alpha = 0.3, \\\n",
    "                 color=next(palette))\n",
    "\n",
    "ax3.fill_between(fe_h_l, (m4_fund_params[0]*fe_h_l) +  m4_fund_params[1]-(2*m4_fund_errs[1][1]), \\\n",
    "                 (m4_fund_params[0]*fe_h_l) +  m4_fund_params[1]+(2*m4_fund_errs[1][1]), alpha = 0.3, \\\n",
    "                 color=next(palette))\n",
    "ax4.fill_between(fe_h_l, (retic_rrab_params[0]*fe_h_l) +  retic_rrab_params[1]-(2*retic_rrab_errs[1][1]), \\\n",
    "                 (retic_rrab_params[0]*fe_h_l) +  retic_rrab_params[1]+(2*retic_rrab_errs[1][1]), alpha = 0.3, \\\n",
    "                 color=next(palette))\n",
    "\n",
    "ax5.fill_between(fe_h_l, (retic_no_c_params[0]*fe_h_l) +  retic_no_c_params[1]-(2*retic_no_c_errs[1][1]), \\\n",
    "                 (retic_no_c_params[0]*fe_h_l) +  retic_no_c_params[1]+(2*retic_no_c_errs[1][1]), alpha = 0.3, \\\n",
    "                 color=next(palette))\n",
    "\n",
    "ax6.fill_between(fe_h_l, (retic_fund_params[0]*fe_h_l) +  retic_fund_params[1]-(2*retic_fund_errs[1][1]), \\\n",
    "                 (retic_fund_params[0]*fe_h_l) +  retic_fund_params[1]+(2*retic_fund_errs[1][1]), alpha = 0.3, \\\n",
    "                 color=next(palette))\n",
    "\n",
    "\n",
    "\n",
    "ax1.plot(fe_h_l, (m4_rrab_params[0]*fe_h_l) +  m4_rrab_params[1], ls='-', \\\n",
    "         label='M4, RRab fit', color=next(palette))\n",
    "ax2.plot(fe_h_l, m4_no_c_params[0]*fe_h_l +  m4_no_c_params[1], ls='-', \\\n",
    "         label='M4, RRc excluded', color=next(palette))\n",
    "ax3.plot(fe_h_l, m4_fund_params[0]*fe_h_l +  m4_fund_params[1], ls='-', \\\n",
    "         label='M4, RRab/c fit', color=next(palette))\n",
    "ax4.plot(fe_h_l, retic_rrab_params[0]*fe_h_l +  retic_rrab_params[1], ls='-', \\\n",
    "         label='Reticulum, RRab fit', color=next(palette))\n",
    "ax5.plot(fe_h_l, retic_no_c_params[0]*fe_h_l +  retic_no_c_params[1], ls='-', \\\n",
    "         label='Reticulum, RRc excluded', color=next(palette))\n",
    "ax6.plot(fe_h_l, retic_fund_params[0]*fe_h_l +  retic_fund_params[1], ls='-', \\\n",
    "         label='Reticulum, RRab/c fit', color=next(palette))\n",
    "\n",
    "#plt.xlabel('[Fe/H]')\n",
    "#plt.ylabel('$\\Delta$ M$_{[3.6]}$')\n",
    "plt.suptitle('PL residuals - weighted fits')\n",
    "\n",
    "handles = np.concatenate((h1,h2, h3, h4, h5, h6))\n",
    "labels = np.concatenate((l1, l2, l3, l4, l5, l6))\n",
    "\n",
    "#ax3.legend(loc='center left', bbox_to_anchor=(1, 0.5))\n",
    "plt.figlegend(handles, labels, numpoints=1, fontsize=12, \\\n",
    "              bbox_to_anchor=(0.9, 0.5), loc='lower left', borderaxespad=0.)\n",
    "\n",
    "fig.text(0.5, 0.04, '[Fe/H]', ha='center')\n",
    "fig.text(0.04, 0.5, '$\\Delta$ M$_{[3.6]}$', va='center', rotation='vertical')\n",
    "\n",
    "\n"
   ]
  },
  {
   "cell_type": "markdown",
   "metadata": {},
   "source": [
    "Comparison of the Reticulum and M4 residuals:\n",
    "------------------------------------------\n",
    "\n",
    "Most robust fit in both cases is the RRab only fit. Compare how the residuls behave in these fits"
   ]
  },
  {
   "cell_type": "code",
   "execution_count": null,
   "metadata": {
    "collapsed": false
   },
   "outputs": [],
   "source": [
    "sns.set(style=\"darkgrid\")\n",
    "sns.set_context(\"notebook\", font_scale=1.5, rc={\"lines.linewidth\": 2.0})\n",
    "sns.set_palette(\"Set2\")\n",
    "\n",
    "xra = np.arange(-0.5, 0.5, 0.1)\n",
    "\n",
    "plt.errorbar(m4_resid_ab, retic_resid_ab, yerr=fundamentalised.reduced_error, xerr=fundamentalised.reduced_error, ls='None', c='k')\n",
    "plt.plot(m4_resid_ab,retic_resid_ab, 'o', ls='None')\n",
    "plt.plot(xra , xra, ls='--', c='gray')\n",
    "plt.xlabel(\"M4 PL residual\")\n",
    "plt.ylabel(\"Reticulum PL residual\")\n",
    "plt.xlim(-0.2, 0.4)\n",
    "plt.ylim(-0.2, 0.4)"
   ]
  },
  {
   "cell_type": "markdown",
   "metadata": {},
   "source": [
    "I have no idea what this is telling me.\n",
    "\n",
    "They aren't evenly distributed around zero. Is this because of the weighting? The period distribution? What *is* the period distribution?"
   ]
  },
  {
   "cell_type": "code",
   "execution_count": null,
   "metadata": {
    "collapsed": false
   },
   "outputs": [],
   "source": [
    "plt.hist(fundamentalised.log_P)"
   ]
  },
  {
   "cell_type": "markdown",
   "metadata": {},
   "source": [
    "Well, that's fucking useless. How does it compare to M4? Are we sampling a similar period range? What about Reticulum and $\\omega$ Cen?"
   ]
  },
  {
   "cell_type": "code",
   "execution_count": null,
   "metadata": {
    "collapsed": true
   },
   "outputs": [],
   "source": []
  }
 ],
 "metadata": {
  "kernelspec": {
   "display_name": "Python 2",
   "language": "python",
   "name": "python2"
  },
  "language_info": {
   "codemirror_mode": {
    "name": "ipython",
    "version": 2
   },
   "file_extension": ".py",
   "mimetype": "text/x-python",
   "name": "python",
   "nbconvert_exporter": "python",
   "pygments_lexer": "ipython2",
   "version": "2.7.11"
  }
 },
 "nbformat": 4,
 "nbformat_minor": 0
}
